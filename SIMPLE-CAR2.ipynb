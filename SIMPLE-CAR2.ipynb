{
 "cells": [
  {
   "cell_type": "code",
   "execution_count": null,
   "id": "3d9e7ec2-f4ad-410b-8b7b-dee80f7291a3",
   "metadata": {},
   "outputs": [],
   "source": [
    "distance=float(input(\"Distance in m: \"))\n",
    "time=float(input(\"Time in s: \"))\n",
    "\n",
    "speed=distance/time\n",
    "\n",
    "print(f\"Speed: {speed}m/s\")"
   ]
  }
 ],
 "metadata": {
  "kernelspec": {
   "display_name": "Python [conda env:base] *",
   "language": "python",
   "name": "conda-base-py"
  },
  "language_info": {
   "codemirror_mode": {
    "name": "ipython",
    "version": 3
   },
   "file_extension": ".py",
   "mimetype": "text/x-python",
   "name": "python",
   "nbconvert_exporter": "python",
   "pygments_lexer": "ipython3",
   "version": "3.12.7"
  }
 },
 "nbformat": 4,
 "nbformat_minor": 5
}
